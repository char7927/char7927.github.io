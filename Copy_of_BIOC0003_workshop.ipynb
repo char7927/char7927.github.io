{
  "nbformat": 4,
  "nbformat_minor": 0,
  "metadata": {
    "colab": {
      "provenance": [],
      "authorship_tag": "ABX9TyOBlllzwDNrLg69D6srPbzP",
      "include_colab_link": true
    },
    "kernelspec": {
      "name": "python3",
      "display_name": "Python 3"
    },
    "language_info": {
      "name": "python"
    }
  },
  "cells": [
    {
      "cell_type": "markdown",
      "metadata": {
        "id": "view-in-github",
        "colab_type": "text"
      },
      "source": [
        "<a href=\"https://colab.research.google.com/github/char7927/char7927.github.io/blob/main/Copy_of_BIOC0003_workshop.ipynb\" target=\"_parent\"><img src=\"https://colab.research.google.com/assets/colab-badge.svg\" alt=\"Open In Colab\"/></a>"
      ]
    },
    {
      "cell_type": "code",
      "execution_count": null,
      "metadata": {
        "id": "C60xyw1mPlfE",
        "colab": {
          "base_uri": "https://localhost:8080/"
        },
        "outputId": "88c93977-2b46-434e-d2b4-a4cd52a69abd"
      },
      "outputs": [
        {
          "output_type": "stream",
          "name": "stdout",
          "text": [
            "Collecting FlowCal==1.3.0\n",
            "  Downloading FlowCal-1.3.0.tar.gz (82 kB)\n",
            "\u001b[2K     \u001b[90m━━━━━━━━━━━━━━━━━━━━━━━━━━━━━━━━━━━━━━━━\u001b[0m \u001b[32m82.3/82.3 kB\u001b[0m \u001b[31m2.2 MB/s\u001b[0m eta \u001b[36m0:00:00\u001b[0m\n",
            "\u001b[?25h  Preparing metadata (setup.py) ... \u001b[?25l\u001b[?25hdone\n",
            "Requirement already satisfied: packaging>=16.8 in /usr/local/lib/python3.10/dist-packages (from FlowCal==1.3.0) (23.2)\n",
            "Requirement already satisfied: six>=1.10.0 in /usr/local/lib/python3.10/dist-packages (from FlowCal==1.3.0) (1.16.0)\n",
            "Requirement already satisfied: numpy>=1.9.0 in /usr/local/lib/python3.10/dist-packages (from FlowCal==1.3.0) (1.23.5)\n",
            "Requirement already satisfied: scipy>=0.19.0 in /usr/local/lib/python3.10/dist-packages (from FlowCal==1.3.0) (1.11.3)\n",
            "Requirement already satisfied: matplotlib>=2.0.0 in /usr/local/lib/python3.10/dist-packages (from FlowCal==1.3.0) (3.7.1)\n",
            "Requirement already satisfied: scikit-image>=0.10.0 in /usr/local/lib/python3.10/dist-packages (from FlowCal==1.3.0) (0.19.3)\n",
            "Requirement already satisfied: scikit-learn>=0.16.0 in /usr/local/lib/python3.10/dist-packages (from FlowCal==1.3.0) (1.2.2)\n",
            "Requirement already satisfied: pandas>=0.23.0 in /usr/local/lib/python3.10/dist-packages (from FlowCal==1.3.0) (1.5.3)\n",
            "Collecting xlrd<2.0.0,>=0.9.2 (from FlowCal==1.3.0)\n",
            "  Downloading xlrd-1.2.0-py2.py3-none-any.whl (103 kB)\n",
            "\u001b[2K     \u001b[90m━━━━━━━━━━━━━━━━━━━━━━━━━━━━━━━━━━━━━━━━\u001b[0m \u001b[32m103.3/103.3 kB\u001b[0m \u001b[31m8.4 MB/s\u001b[0m eta \u001b[36m0:00:00\u001b[0m\n",
            "\u001b[?25hRequirement already satisfied: openpyxl>=2.2.0 in /usr/local/lib/python3.10/dist-packages (from FlowCal==1.3.0) (3.1.2)\n",
            "Requirement already satisfied: contourpy>=1.0.1 in /usr/local/lib/python3.10/dist-packages (from matplotlib>=2.0.0->FlowCal==1.3.0) (1.2.0)\n",
            "Requirement already satisfied: cycler>=0.10 in /usr/local/lib/python3.10/dist-packages (from matplotlib>=2.0.0->FlowCal==1.3.0) (0.12.1)\n",
            "Requirement already satisfied: fonttools>=4.22.0 in /usr/local/lib/python3.10/dist-packages (from matplotlib>=2.0.0->FlowCal==1.3.0) (4.44.3)\n",
            "Requirement already satisfied: kiwisolver>=1.0.1 in /usr/local/lib/python3.10/dist-packages (from matplotlib>=2.0.0->FlowCal==1.3.0) (1.4.5)\n",
            "Requirement already satisfied: pillow>=6.2.0 in /usr/local/lib/python3.10/dist-packages (from matplotlib>=2.0.0->FlowCal==1.3.0) (9.4.0)\n",
            "Requirement already satisfied: pyparsing>=2.3.1 in /usr/local/lib/python3.10/dist-packages (from matplotlib>=2.0.0->FlowCal==1.3.0) (3.1.1)\n",
            "Requirement already satisfied: python-dateutil>=2.7 in /usr/local/lib/python3.10/dist-packages (from matplotlib>=2.0.0->FlowCal==1.3.0) (2.8.2)\n",
            "Requirement already satisfied: et-xmlfile in /usr/local/lib/python3.10/dist-packages (from openpyxl>=2.2.0->FlowCal==1.3.0) (1.1.0)\n",
            "Requirement already satisfied: pytz>=2020.1 in /usr/local/lib/python3.10/dist-packages (from pandas>=0.23.0->FlowCal==1.3.0) (2023.3.post1)\n",
            "Requirement already satisfied: networkx>=2.2 in /usr/local/lib/python3.10/dist-packages (from scikit-image>=0.10.0->FlowCal==1.3.0) (3.2.1)\n",
            "Requirement already satisfied: imageio>=2.4.1 in /usr/local/lib/python3.10/dist-packages (from scikit-image>=0.10.0->FlowCal==1.3.0) (2.31.6)\n",
            "Requirement already satisfied: tifffile>=2019.7.26 in /usr/local/lib/python3.10/dist-packages (from scikit-image>=0.10.0->FlowCal==1.3.0) (2023.9.26)\n",
            "Requirement already satisfied: PyWavelets>=1.1.1 in /usr/local/lib/python3.10/dist-packages (from scikit-image>=0.10.0->FlowCal==1.3.0) (1.4.1)\n",
            "Requirement already satisfied: joblib>=1.1.1 in /usr/local/lib/python3.10/dist-packages (from scikit-learn>=0.16.0->FlowCal==1.3.0) (1.3.2)\n",
            "Requirement already satisfied: threadpoolctl>=2.0.0 in /usr/local/lib/python3.10/dist-packages (from scikit-learn>=0.16.0->FlowCal==1.3.0) (3.2.0)\n",
            "Building wheels for collected packages: FlowCal\n",
            "  Building wheel for FlowCal (setup.py) ... \u001b[?25l\u001b[?25hdone\n",
            "  Created wheel for FlowCal: filename=FlowCal-1.3.0-py3-none-any.whl size=84527 sha256=6de6eb934826eb04b6808558172a9c34218dda97825daad7b2de25870c882785\n",
            "  Stored in directory: /root/.cache/pip/wheels/b1/9c/f3/4c59694424e6a6d70b11b66f076d8a2359b57dfdb9b723ed3f\n",
            "Successfully built FlowCal\n",
            "Installing collected packages: xlrd, FlowCal\n",
            "  Attempting uninstall: xlrd\n",
            "    Found existing installation: xlrd 2.0.1\n",
            "    Uninstalling xlrd-2.0.1:\n",
            "      Successfully uninstalled xlrd-2.0.1\n",
            "Successfully installed FlowCal-1.3.0 xlrd-1.2.0\n"
          ]
        }
      ],
      "source": [
        "#hi, the hash means that colab will ignore this text - that is why it is green\n",
        "!pip install FlowCal==1.3.0 #this line will install the 1.3.0 version of FlowCal\n",
        "#this website has the documentation on its functions: https://flowcal.readthedocs.io/en/latest/\n",
        "#some python libraries are as well documented as this one..."
      ]
    },
    {
      "cell_type": "code",
      "source": [
        "import FlowCal #even though it is installed, you still have to tell python that you plan to use it!\n",
        "#numpy is so important it comes pre-installed, it's very useful for handling multi-dimensional arrays (arrays = a fancy way of saying tables)\n",
        "import numpy as np #the 'as np' part means from now on we can write np instead of numpy\n",
        "import matplotlib.pyplot as plt #this is a library for plotting graphs\n",
        "\n",
        "#FlowCal relies on numpy and matplotlib.pyplot to function"
      ],
      "metadata": {
        "id": "gq4_dzR2Qsl0"
      },
      "execution_count": null,
      "outputs": []
    },
    {
      "cell_type": "code",
      "source": [
        "!wget https://char7927.github.io/BIOC0003/file1.fcs\n",
        "!wget https://char7927.github.io/BIOC0003/file2.fcs\n",
        "!wget https://char7927.github.io/BIOC0003/file3.fcs\n",
        "#these files are the negative control, the positive control, and one sample"
      ],
      "metadata": {
        "id": "3n-0qKV7TncU",
        "colab": {
          "base_uri": "https://localhost:8080/"
        },
        "outputId": "69421b49-7289-438a-8b97-13b9378e9b04"
      },
      "execution_count": null,
      "outputs": [
        {
          "output_type": "stream",
          "name": "stdout",
          "text": [
            "--2023-11-29 11:27:26--  https://char7927.github.io/BIOC0003/file1.fcs\n",
            "Resolving char7927.github.io (char7927.github.io)... 185.199.111.153, 185.199.109.153, 185.199.108.153, ...\n",
            "Connecting to char7927.github.io (char7927.github.io)|185.199.111.153|:443... connected.\n",
            "HTTP request sent, awaiting response... 200 OK\n",
            "Length: 952742 (930K) [application/vnd.isac.fcs]\n",
            "Saving to: ‘file1.fcs’\n",
            "\n",
            "\rfile1.fcs             0%[                    ]       0  --.-KB/s               \rfile1.fcs           100%[===================>] 930.41K  --.-KB/s    in 0.05s   \n",
            "\n",
            "2023-11-29 11:27:26 (16.7 MB/s) - ‘file1.fcs’ saved [952742/952742]\n",
            "\n",
            "--2023-11-29 11:27:26--  https://char7927.github.io/BIOC0003/file2.fcs\n",
            "Resolving char7927.github.io (char7927.github.io)... 185.199.111.153, 185.199.109.153, 185.199.108.153, ...\n",
            "Connecting to char7927.github.io (char7927.github.io)|185.199.111.153|:443... connected.\n",
            "HTTP request sent, awaiting response... 200 OK\n",
            "Length: 4272033 (4.1M) [application/vnd.isac.fcs]\n",
            "Saving to: ‘file2.fcs’\n",
            "\n",
            "file2.fcs           100%[===================>]   4.07M  --.-KB/s    in 0.09s   \n",
            "\n",
            "2023-11-29 11:27:26 (47.8 MB/s) - ‘file2.fcs’ saved [4272033/4272033]\n",
            "\n",
            "--2023-11-29 11:27:26--  https://char7927.github.io/BIOC0003/file3.fcs\n",
            "Resolving char7927.github.io (char7927.github.io)... 185.199.111.153, 185.199.109.153, 185.199.108.153, ...\n",
            "Connecting to char7927.github.io (char7927.github.io)|185.199.111.153|:443... connected.\n",
            "HTTP request sent, awaiting response... 200 OK\n",
            "Length: 2990919 (2.9M) [application/vnd.isac.fcs]\n",
            "Saving to: ‘file3.fcs’\n",
            "\n",
            "file3.fcs           100%[===================>]   2.85M  --.-KB/s    in 0.07s   \n",
            "\n",
            "2023-11-29 11:27:26 (38.4 MB/s) - ‘file3.fcs’ saved [2990919/2990919]\n",
            "\n"
          ]
        }
      ]
    },
    {
      "cell_type": "code",
      "source": [
        "transformedFile1 = FlowCal.transform.to_rfi(FlowCal.io.FCSData('file1.fcs'))\n",
        "print(transformedFile1.shape[0])\n",
        "print(transformedFile1.channels)"
      ],
      "metadata": {
        "id": "APZiZvqN2I1R",
        "colab": {
          "base_uri": "https://localhost:8080/"
        },
        "outputId": "3f5ab6e3-8a93-4159-8add-4a30fa93db85"
      },
      "execution_count": null,
      "outputs": [
        {
          "output_type": "stream",
          "name": "stdout",
          "text": [
            "16969\n",
            "('FSC-A', 'SSC-A', 'FL1-A', 'FL2-A', 'FL3-A', 'FL4-A', 'FSC-H', 'SSC-H', 'FL1-H', 'FL2-H', 'FL3-H', 'FL4-H', 'Width', 'Time')\n"
          ]
        }
      ]
    },
    {
      "cell_type": "code",
      "source": [
        "#FlowCal has lots of methods for displaying data - let's look at the autocomplete...\n",
        "FlowCal.plot.density2d(transformedFile1,['Time','FSC-A'],1024,'scatter')\n",
        "#FlowCal.plot.density2d(transformedFile1,['FL1-H','FSC-H'],1024,'scatter')"
      ],
      "metadata": {
        "id": "WVBPcqiuUCU0",
        "colab": {
          "base_uri": "https://localhost:8080/",
          "height": 454
        },
        "outputId": "d70bddeb-6e8b-47b0-d314-6ae3ab5f7cc6"
      },
      "execution_count": null,
      "outputs": [
        {
          "output_type": "display_data",
          "data": {
            "text/plain": [
              "<Figure size 640x480 with 1 Axes>"
            ],
            "image/png": "[encoded data removed]"
          },
          "metadata": {}
        }
      ]
    },
    {
      "cell_type": "markdown",
      "source": [
        "**Data types:**\n",
        "\n",
        "5 is an int\n",
        "\n",
        "5.3 is a float\n",
        "\n",
        "'text' is a string\n",
        "\n",
        "[0,3,5,7] is a list of ints\n",
        "\n",
        "['this', 'is', 'a'] is a list of strings\n",
        "\n",
        "lists can contain lots of different types of data"
      ],
      "metadata": {
        "id": "2uy55JvtNkSE"
      }
    },
    {
      "cell_type": "code",
      "source": [
        "#gating data is a way to focus on the cells you are interested in\n",
        "gatedFile1 = FlowCal.gate.density2d(transformedFile1,['FSC-A','SSC-A'],full_output=True)\n",
        "FlowCal.plot.density2d(gatedFile1.gated_data,channels=['FSC-A', 'SSC-A'],mode='scatter')\n",
        "plt.show()\n",
        "FlowCal.plot.density_and_hist(transformedFile1,gatedFile1.gated_data,gatedFile1.contour,['FSC-A', 'SSC-A'],{'mode':'scatter'},['FL1-H','FL4-H'])\n",
        "#plt.tight_layout()"
      ],
      "metadata": {
        "id": "pxSrfyuO7Hcq"
      },
      "execution_count": null,
      "outputs": []
    },
    {
      "cell_type": "code",
      "source": [
        "#lets display the data from the second file..."
      ],
      "metadata": {
        "id": "7Kln73PFEKIQ"
      },
      "execution_count": null,
      "outputs": []
    },
    {
      "cell_type": "code",
      "source": [
        "#lets do that more efficiently...\n",
        "for i in range(1,15,2):\n",
        "  print(i)"
      ],
      "metadata": {
        "colab": {
          "base_uri": "https://localhost:8080/"
        },
        "id": "Wbqa0jJkXmTw",
        "outputId": "8d5b8f91-e623-4070-805c-1c6b06d47dd6"
      },
      "execution_count": null,
      "outputs": [
        {
          "output_type": "stream",
          "name": "stdout",
          "text": [
            "1\n",
            "3\n",
            "5\n",
            "7\n",
            "9\n",
            "11\n",
            "13\n"
          ]
        }
      ]
    }
  ]
}