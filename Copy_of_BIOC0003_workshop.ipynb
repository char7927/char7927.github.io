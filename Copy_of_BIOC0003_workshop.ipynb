{
  "nbformat": 4,
  "nbformat_minor": 0,
  "metadata": {
    "colab": {
      "provenance": [],
      "authorship_tag": "ABX9TyPQmDLlEmWsNCGfi2Q0TGsl",
      "include_colab_link": true
    },
    "kernelspec": {
      "name": "python3",
      "display_name": "Python 3"
    },
    "language_info": {
      "name": "python"
    }
  },
  "cells": [
    {
      "cell_type": "markdown",
      "metadata": {
        "id": "view-in-github",
        "colab_type": "text"
      },
      "source": [
        "<a href=\"https://colab.research.google.com/github/char7927/char7927.github.io/blob/main/Copy_of_BIOC0003_workshop.ipynb\" target=\"_parent\"><img src=\"https://colab.research.google.com/assets/colab-badge.svg\" alt=\"Open In Colab\"/></a>"
      ]
    },
    {
      "cell_type": "code",
      "execution_count": null,
      "metadata": {
        "id": "C60xyw1mPlfE"
      },
      "outputs": [],
      "source": [
        "#hi, the hash means that colab will ignore this text - that is why it is green\n",
        "!pip install FlowCal==1.3.0 #this line will install the 1.3.0 version of FlowCal\n",
        "#this website has the documentation on its functions: https://flowcal.readthedocs.io/en/latest/\n",
        "#some python libraries are as well documented as this one..."
      ]
    },
    {
      "cell_type": "code",
      "source": [
        "import FlowCal #even though it is installed, you still have to tell python that you plan to use it!\n",
        "#numpy is so important it comes pre-installed, it's very useful for handling multi-dimensional arrays (arrays = a fancy way of saying tables)\n",
        "import numpy as np #the 'as np' part means from now on we can write np instead of numpy\n",
        "import matplotlib.pyplot as plt #this is a library for plotting graphs\n",
        "\n",
        "#FlowCal relies on numpy and matplotlib.pyplot to function"
      ],
      "metadata": {
        "id": "gq4_dzR2Qsl0"
      },
      "execution_count": null,
      "outputs": []
    },
    {
      "cell_type": "code",
      "source": [
        "!wget https://char7927.github.io/BIOC0003/file1.fcs\n",
        "!wget https://char7927.github.io/BIOC0003/file2.fcs\n",
        "!wget https://char7927.github.io/BIOC0003/file3.fcs\n",
        "#these files are the negative control, the positive control, and one sample"
      ],
      "metadata": {
        "id": "3n-0qKV7TncU"
      },
      "execution_count": null,
      "outputs": []
    },
    {
      "cell_type": "code",
      "source": [
        "transformedFile1 = FlowCal.transform.to_rfi(FlowCal.io.FCSData('file1.fcs'))\n",
        "print(transformedFile1.shape)\n",
        "print(transformedFile1.channels)"
      ],
      "metadata": {
        "id": "APZiZvqN2I1R"
      },
      "execution_count": null,
      "outputs": []
    },
    {
      "cell_type": "code",
      "source": [
        "#FlowCal has lots of methods for displaying data - let's look at the autocomplete...\n",
        "FlowCal.plot.density2d(transformedFile1,['FL1-H','FSC-H'],1024,'scatter')"
      ],
      "metadata": {
        "id": "WVBPcqiuUCU0"
      },
      "execution_count": null,
      "outputs": []
    },
    {
      "cell_type": "markdown",
      "source": [
        "**Data types:**\n",
        "\n",
        "5 is an int\n",
        "\n",
        "5.3 is a float\n",
        "\n",
        "'text' is a string\n",
        "\n",
        "[0,3,5,7] is a list of ints\n",
        "\n",
        "['this', 'is', 'a'] is a list of strings\n",
        "\n",
        "lists can contain lots of different types of data"
      ],
      "metadata": {
        "id": "2uy55JvtNkSE"
      }
    },
    {
      "cell_type": "code",
      "source": [
        "#gating data is a way to focus on the cells you are interested in\n",
        "gatedFile1 = FlowCal.gate.density2d(transformedFile1,['FSC-A','SSC-A'],full_output=True)\n",
        "FlowCal.plot.density2d(gatedFile1.gated_data,channels=['FSC-A', 'SSC-A'],mode='scatter')\n",
        "plt.show()\n",
        "FlowCal.plot.density_and_hist(transformedFile1,gatedFile1.gated_data,gatedFile1.contour,['FSC-A', 'SSC-A'],{'mode':'scatter'},['FL1-H','FL4-H'])\n",
        "#plt.tight_layout()"
      ],
      "metadata": {
        "id": "pxSrfyuO7Hcq"
      },
      "execution_count": null,
      "outputs": []
    },
    {
      "cell_type": "code",
      "source": [
        "#lets display the data from the second file..."
      ],
      "metadata": {
        "id": "7Kln73PFEKIQ"
      },
      "execution_count": null,
      "outputs": []
    },
    {
      "cell_type": "code",
      "source": [
        "#lets do that more efficiently...\n",
        "for i in range(1,15,2):\n",
        "  print(i)"
      ],
      "metadata": {
        "colab": {
          "base_uri": "https://localhost:8080/"
        },
        "id": "Wbqa0jJkXmTw",
        "outputId": "8d5b8f91-e623-4070-805c-1c6b06d47dd6"
      },
      "execution_count": null,
      "outputs": [
        {
          "output_type": "stream",
          "name": "stdout",
          "text": [
            "1\n",
            "3\n",
            "5\n",
            "7\n",
            "9\n",
            "11\n",
            "13\n"
          ]
        }
      ]
    }
  ]
}